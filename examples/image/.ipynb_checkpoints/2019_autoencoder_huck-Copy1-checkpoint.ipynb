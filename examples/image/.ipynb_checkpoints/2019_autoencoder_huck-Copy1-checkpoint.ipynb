{
 "cells": [
  {
   "cell_type": "code",
   "execution_count": 1,
   "metadata": {},
   "outputs": [],
   "source": [
    "#!/usr/bin/env python3\n",
    "\n",
    "import os\n",
    "import sys\n",
    "import numpy as np \n",
    "import argparse \n",
    "import time \n",
    "\n",
    "import torch \n",
    "import torch.nn as nn \n",
    "import torch.optim as optim \n",
    "import torch.nn.functional as F \n",
    "\n",
    "\n",
    "from torchvision import datasets, transforms\n",
    "\n",
    "seed = 7\n",
    "np.random.seed(seed)\n",
    "dtype = torch.cuda.FloatTensor if torch.cuda.is_available() else torch.FloatTensor\n",
    "device = torch.device(\"cuda\" if torch.cuda.is_available() else \"cpu\")\n",
    "\n",
    "batch_size =200\n",
    "\n",
    "n_epochs = 5\n",
    "\n",
    "\n",
    "def param(nnet, Mb=True):\n",
    "    \"\"\"\n",
    "    Return the number of parameters in nnet\n",
    "    \"\"\"\n",
    "    nelems = sum([param.nelement() for param in nnet.parameters()])\n",
    "\n",
    "    return nelems / 10**6 if Mb else nelems"
   ]
  },
  {
   "cell_type": "code",
   "execution_count": 2,
   "metadata": {},
   "outputs": [],
   "source": [
    "import os\n",
    "\n",
    "import torch\n",
    "import torchvision\n",
    "from torch import nn\n",
    "from torch.autograd import Variable\n",
    "from torch.utils.data import DataLoader\n",
    "from torchvision import transforms\n",
    "from torchvision.datasets import MNIST\n",
    "from torchvision.utils import save_image\n",
    "from torch.nn import functional as F\n",
    "\n",
    "import numpy as np\n",
    "import torch.optim as optim\n",
    "import torch.utils.data\n",
    "from torchvision import datasets, transforms\n",
    "from collections import defaultdict\n",
    "\n",
    "\n",
    "Num_H = 1600\n",
    "\n",
    "class autoencoder(nn.Module):\n",
    "    def __init__(self,Num_H):\n",
    "        super(autoencoder, self).__init__()\n",
    "        self.encoder = nn.Sequential(\n",
    "            nn.Linear(28 * 28, Num_H),\n",
    "            nn.ReLU(True))\n",
    "        self.decoder = nn.Sequential(\n",
    "            nn.Linear(Num_H, 28*28), nn.ReLU(True))\n",
    "        self.name = \"DNN_autoencoder\"\n",
    "\n",
    "    def forward(self, x):\n",
    "        x = self.encoder(x)\n",
    "        x = self.decoder(x)\n",
    "        return x"
   ]
  },
  {
   "cell_type": "code",
   "execution_count": 3,
   "metadata": {},
   "outputs": [],
   "source": [
    "def test_ae(model, criterion, optimizer, test_loader):\n",
    "    # monitor training loss\n",
    "    test_loss = 0.0\n",
    "    for data in test_loader:\n",
    "        # _ stands in for labels, here\n",
    "        images, _ = data\n",
    "        # flatten images\n",
    "        images = images.view(images.size(0), -1)\n",
    "        images = images.to(device)\n",
    "        outputs = model(images)\n",
    "        loss = criterion(outputs, images)\n",
    "        test_loss += loss.item()*images.size(0)\n",
    "\n",
    "    test_loss = test_loss/len(test_loader)\n",
    "    print('Val. Loss: {:.6f}'.format( \n",
    "        test_loss\n",
    "        ))\n",
    "    return test_loss\n",
    "\n",
    "def train_ae(model, n_epochs, criterion, optimizer, train_loader, test_loader, w_name = \"19_ann_ae\"):\n",
    "    for epoch in range(1, n_epochs+1):\n",
    "        # monitor training loss\n",
    "        train_loss = 0.0\n",
    "        test_loss = 0.0\n",
    "        ###################\n",
    "        # train the model #\n",
    "        ###################\n",
    "        for data in train_loader:\n",
    "            # _ stands in for labels, here\n",
    "            images, _ = data\n",
    "            # flatten images\n",
    "            images = images.view(images.size(0), -1)\n",
    "            images = images.to(device)\n",
    "            # clear the gradients of all optimized variables\n",
    "            optimizer.zero_grad()\n",
    "            # forward pass: compute predicted outputs by passing inputs to the model\n",
    "            outputs = model(images)\n",
    "            # calculate the loss\n",
    "            loss = criterion(outputs, images)\n",
    "            # backward pass: compute gradient of the loss with respect to model parameters\n",
    "            loss.backward()\n",
    "            # perform a single optimization step (parameter update)\n",
    "            optimizer.step()\n",
    "            # update running training loss\n",
    "            train_loss += loss.item()*images.size(0)\n",
    "\n",
    "        # print avg training statistics \n",
    "        train_loss = train_loss/len(train_loader)\n",
    "        test_loss = test_ae(model, criterion, optimizer, test_loader)\n",
    "        print('Epoch: {} \\t Training Loss: {:.6f} \\t Val. Loss: {:.6f}'.format(\n",
    "            epoch, \n",
    "            train_loss, test_loss\n",
    "            ))\n",
    "\n",
    "    torch.save(model.state_dict(), \"model_weights/\" + w_name + \".pt\")\n",
    "    return model, test_loss\n",
    "\n"
   ]
  },
  {
   "cell_type": "code",
   "execution_count": 4,
   "metadata": {},
   "outputs": [],
   "source": [
    "\n",
    "\n",
    "\n",
    "### get data\n",
    "# convert data to torch.FloatTensor\n",
    "transform = transforms.ToTensor()\n",
    "\n",
    "# load the training and test datasets\n",
    "train_data = datasets.MNIST(root='data', train=True, download=True, transform=transform)\n",
    "test_data = datasets.MNIST(root='data', train=False,\n",
    "                                  download=True, transform=transform)\n",
    "# Create training and test dataloaders\n",
    "\n",
    "seed = 7\n",
    "np.random.seed(seed)\n",
    "dtype = torch.cuda.FloatTensor if torch.cuda.is_available() else torch.FloatTensor\n",
    "device = torch.device(\"cuda\" if torch.cuda.is_available() else \"cpu\")\n",
    "# number of subprocesses to use for data loading\n",
    "num_workers = 0\n",
    "# how many samples per batch to load\n",
    "batch_size = 20\n",
    "\n",
    "# prepare data loaders\n",
    "train_loader = torch.utils.data.DataLoader(train_data, batch_size=batch_size, num_workers=num_workers)\n",
    "test_loader = torch.utils.data.DataLoader(test_data, batch_size=batch_size, num_workers=num_workers)\n",
    "\n",
    "\n",
    "lr = 0.0001\n",
    "# specify loss function\n",
    "\n",
    "# number of epochs to train the model\n",
    "n_epochs = 10\n",
    "\n"
   ]
  },
  {
   "cell_type": "code",
   "execution_count": null,
   "metadata": {},
   "outputs": [],
   "source": []
  },
  {
   "cell_type": "code",
   "execution_count": 5,
   "metadata": {},
   "outputs": [],
   "source": [
    "import matplotlib.pyplot as plt\n",
    "%matplotlib inline\n",
    "\n",
    "def show_res(model):\n",
    "    # obtain one batch of test images\n",
    "    dataiter = iter(test_loader)\n",
    "    images, labels = dataiter.next()\n",
    "\n",
    "    images_flatten = images.view(images.size(0), -1)\n",
    "    # get sample outputs\n",
    "    output = model(images_flatten.to(device))\n",
    "    # prep images for display\n",
    "    images = images.numpy()\n",
    "\n",
    "    # output is resized into a batch of images\n",
    "    output = output.view(batch_size, 1, 28, 28)\n",
    "    # use detach when it's an output that requires_grad\n",
    "    output = output.cpu().detach().numpy()\n",
    "\n",
    "    # plot the first ten input images and then reconstructed images\n",
    "    fig, axes = plt.subplots(nrows=2, ncols=10, sharex=True, sharey=True, figsize=(25,4))\n",
    "\n",
    "    # input images on top row, reconstructions on bottom\n",
    "    for images, row in zip([images, output], axes):\n",
    "        for img, ax in zip(images, row):\n",
    "            ax.imshow(np.squeeze(img), cmap='gray')\n",
    "            ax.get_xaxis().set_visible(False)\n",
    "            ax.get_yaxis().set_visible(False)\n",
    "    plt.show()"
   ]
  },
  {
   "cell_type": "code",
   "execution_count": 77,
   "metadata": {},
   "outputs": [],
   "source": [
    "# model_ae = autoencoder(800).cuda()\n",
    "# criterion = nn.MSELoss()\n",
    "# optimizer = torch.optim.Adam(\n",
    "# model_ae.parameters(), lr=1e-4, weight_decay=1e-5)\n",
    "\n",
    "# model_ae = train_ae(model_ae, 10, criterion, optimizer, train_loader)\n",
    "# loss = train_ae(model_ae, criterion, optimizer, test_loader)\n",
    "\n",
    "# print(\"DNN MSE Results, N = 800\")\n",
    "# print(\"DNN MSE\", param(model_ae),\"MB\", \", Val. loss = \", loss)\n",
    "# show_res(model_ae)"
   ]
  },
  {
   "cell_type": "markdown",
   "metadata": {},
   "source": [
    "# ANN AE Results"
   ]
  },
  {
   "cell_type": "code",
   "execution_count": 80,
   "metadata": {},
   "outputs": [
    {
     "name": "stdout",
     "output_type": "stream",
     "text": [
      "Val. Loss: 0.768552\n",
      "Epoch: 1 \t Training Loss: 1.000794 \t Val. Loss: 0.768552\n",
      "Val. Loss: 0.659580\n",
      "Epoch: 2 \t Training Loss: 0.695453 \t Val. Loss: 0.659580\n",
      "Val. Loss: 0.605080\n",
      "Epoch: 3 \t Training Loss: 0.621150 \t Val. Loss: 0.605080\n",
      "Val. Loss: 0.558038\n",
      "Epoch: 4 \t Training Loss: 0.574871 \t Val. Loss: 0.558038\n",
      "Val. Loss: 0.506654\n",
      "Epoch: 5 \t Training Loss: 0.519452 \t Val. Loss: 0.506654\n",
      "Val. Loss: 0.485110\n",
      "Epoch: 6 \t Training Loss: 0.492316 \t Val. Loss: 0.485110\n",
      "Val. Loss: 0.471638\n",
      "Epoch: 7 \t Training Loss: 0.475523 \t Val. Loss: 0.471638\n",
      "Val. Loss: 0.460892\n",
      "Epoch: 8 \t Training Loss: 0.464472 \t Val. Loss: 0.460892\n",
      "Val. Loss: 0.451241\n",
      "Epoch: 9 \t Training Loss: 0.452878 \t Val. Loss: 0.451241\n",
      "Val. Loss: 0.446232\n",
      "Epoch: 10 \t Training Loss: 0.445881 \t Val. Loss: 0.446232\n",
      "DNN MAE Results, N = 800\n",
      "DNN MAE 1.255984 MB , Val. loss =  0.44623172949999573\n"
     ]
    },
    {
     "data": {
      "image/png": "[encoded data removed]",
      "text/plain": [
       "<Figure size 1800x288 with 20 Axes>"
      ]
     },
     "metadata": {
      "needs_background": "light"
     },
     "output_type": "display_data"
    }
   ],
   "source": [
    "Num_H = 800\n",
    "\n",
    "model_ae = autoencoder(Num_H).cuda()\n",
    "criterion = nn.L1Loss()\n",
    "optimizer = torch.optim.Adam(\n",
    "model_ae.parameters(), lr=1e-4)\n",
    "\n",
    "model_ae, loss = train_ae(model_ae, 10, criterion, optimizer, train_loader, test_loader, w_name = \"ann_ae\"+str(Num_H) )\n",
    "\n",
    "print(\"DNN MAE Results, N = 800\")\n",
    "print(\"DNN MAE\", param(model_ae),\"MB\", \", Val. loss = \", loss)\n",
    "show_res(model_ae)"
   ]
  },
  {
   "cell_type": "code",
   "execution_count": null,
   "metadata": {},
   "outputs": [],
   "source": []
  },
  {
   "cell_type": "code",
   "execution_count": null,
   "metadata": {},
   "outputs": [],
   "source": []
  },
  {
   "cell_type": "code",
   "execution_count": 7,
   "metadata": {},
   "outputs": [],
   "source": [
    "val_loss_book = []\n",
    "para_book = []"
   ]
  },
  {
   "cell_type": "code",
   "execution_count": null,
   "metadata": {},
   "outputs": [
    {
     "name": "stdout",
     "output_type": "stream",
     "text": [
      "Val. Loss: 1.065280\n",
      "Epoch: 1 \t Training Loss: 1.462326 \t Val. Loss: 1.065280\n",
      "Val. Loss: 0.922406\n",
      "Epoch: 2 \t Training Loss: 0.982435 \t Val. Loss: 0.922406\n",
      "Val. Loss: 0.861649\n",
      "Epoch: 3 \t Training Loss: 0.891117 \t Val. Loss: 0.861649\n",
      "Val. Loss: 0.822713\n",
      "Epoch: 4 \t Training Loss: 0.842377 \t Val. Loss: 0.822713\n",
      "Val. Loss: 0.792820\n",
      "Epoch: 5 \t Training Loss: 0.807631 \t Val. Loss: 0.792820\n",
      "Val. Loss: 0.773669\n",
      "Epoch: 6 \t Training Loss: 0.783532 \t Val. Loss: 0.773669\n",
      "Val. Loss: 0.757869\n",
      "Epoch: 7 \t Training Loss: 0.766320 \t Val. Loss: 0.757869\n",
      "Val. Loss: 0.746835\n",
      "Epoch: 8 \t Training Loss: 0.752706 \t Val. Loss: 0.746835\n",
      "Val. Loss: 0.738785\n",
      "Epoch: 9 \t Training Loss: 0.743422 \t Val. Loss: 0.738785\n",
      "Val. Loss: 0.733177\n",
      "Epoch: 10 \t Training Loss: 0.736455 \t Val. Loss: 0.733177\n",
      "DNN MAE Results, N = 100\n",
      "--- DNN MAE 0.157684 MB , Val. loss =  0.7331770592927933\n"
     ]
    },
    {
     "data": {
      "image/png": "[encoded data removed]",
      "text/plain": [
       "<Figure size 1800x288 with 20 Axes>"
      ]
     },
     "metadata": {
      "needs_background": "light"
     },
     "output_type": "display_data"
    },
    {
     "name": "stdout",
     "output_type": "stream",
     "text": [
      "Val. Loss: 0.936779\n",
      "Epoch: 1 \t Training Loss: 1.257681 \t Val. Loss: 0.936779\n",
      "Val. Loss: 0.806474\n",
      "Epoch: 2 \t Training Loss: 0.856757 \t Val. Loss: 0.806474\n",
      "Val. Loss: 0.751983\n",
      "Epoch: 3 \t Training Loss: 0.769847 \t Val. Loss: 0.751983\n"
     ]
    }
   ],
   "source": [
    "for Num_H in [100, 200, 300, 400, 500, 600,700,800]:\n",
    "\n",
    "    model_ae = autoencoder(Num_H).cuda()\n",
    "    criterion = nn.L1Loss()\n",
    "    optimizer = torch.optim.Adam(\n",
    "    model_ae.parameters(), lr=1e-4)\n",
    "\n",
    "    model_ae , val_loss = train_ae(model_ae, 10, criterion, optimizer, train_loader, test_loader, w_name = \"ann_ae\"+str(Num_H) )\n",
    "    val_loss_book.append(val_loss)\n",
    "\n",
    "    print(\"DNN MAE Results, N =\", Num_H)\n",
    "    print(\"--- DNN MAE\", param(model_ae),\"MB\", \", Val. loss = \", val_loss)\n",
    "    para_book.append(param(model_ae))\n",
    "    show_res(model_ae)"
   ]
  },
  {
   "cell_type": "code",
   "execution_count": null,
   "metadata": {},
   "outputs": [],
   "source": []
  },
  {
   "cell_type": "code",
   "execution_count": null,
   "metadata": {},
   "outputs": [],
   "source": []
  }
 ],
 "metadata": {
  "kernelspec": {
   "display_name": "Python [conda env:speech1] *",
   "language": "python",
   "name": "conda-env-speech1-py"
  },
  "language_info": {
   "codemirror_mode": {
    "name": "ipython",
    "version": 3
   },
   "file_extension": ".py",
   "mimetype": "text/x-python",
   "name": "python",
   "nbconvert_exporter": "python",
   "pygments_lexer": "ipython3",
   "version": "3.7.3"
  }
 },
 "nbformat": 4,
 "nbformat_minor": 2
}
